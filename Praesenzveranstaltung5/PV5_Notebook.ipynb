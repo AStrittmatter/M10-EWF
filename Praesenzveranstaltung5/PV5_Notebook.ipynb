{
 "cells": [
  {
   "cell_type": "markdown",
   "id": "4f42dfff-9b58-4594-816f-f626dda67468",
   "metadata": {},
   "source": [
    "# M10: Empirische Wirtschaftsforschung\n",
    "# Modul 5: Datenwualitätsprobleme"
   ]
  },
  {
   "cell_type": "markdown",
   "id": "ccde74ba-3ad5-4015-a359-3264409519ad",
   "metadata": {},
   "source": [
    "## Vorbereitung"
   ]
  },
  {
   "cell_type": "code",
   "execution_count": null,
   "id": "a8aa2a34-7da5-4195-aeef-3c8925a841da",
   "metadata": {
    "scrolled": true
   },
   "outputs": [],
   "source": [
    "# Packages laden\n",
    "install.packages(\"install.load\")\n",
    "library(install.load)\n",
    "install_load(\"ggplot2\")\n",
    "\n",
    "# Daten laden\n",
    "winequality=read.csv(\"winequality.csv\")"
   ]
  },
  {
   "cell_type": "code",
   "execution_count": null,
   "id": "32aab457-3f3a-4e1b-bafd-3a92581247ef",
   "metadata": {},
   "outputs": [],
   "source": [
    "# Daten inspizieren ----------\n",
    "dim(winequality) # Anzahl Zeilen und Spalten\n",
    "head(winequality)"
   ]
  },
  {
   "cell_type": "code",
   "execution_count": null,
   "id": "8d578d4f-2b3b-43f3-a8cd-6e5952a626e4",
   "metadata": {},
   "outputs": [],
   "source": [
    "summary(winequality)"
   ]
  },
  {
   "cell_type": "code",
   "execution_count": null,
   "id": "360db7f9-c91e-4ae6-98d6-6be8ab1d43ac",
   "metadata": {},
   "outputs": [],
   "source": [
    "table(winequality$color)"
   ]
  },
  {
   "cell_type": "code",
   "execution_count": null,
   "id": "0da16eac-fe68-44a7-8ff2-e9a4d761a021",
   "metadata": {},
   "outputs": [],
   "source": [
    "# Erstellen von einer Dummy Variable aus color\n",
    "winequality$red = as.numeric(winequality$color==\"red\")\n",
    "# Löschen der nicht mehr verwendeten color Variable\n",
    "winequality=winequality[,colnames(winequality)!=\"color\"]\n",
    "\n",
    "head(winequality)"
   ]
  },
  {
   "cell_type": "code",
   "execution_count": null,
   "id": "3fda51e6-24d2-4027-9c7e-724cac7205b1",
   "metadata": {},
   "outputs": [],
   "source": [
    "# Schätzen der Regression\n",
    "lm_basic = lm(data=winequality, \n",
    "              formula=\"quality ~ alcohol\")\n",
    "\n",
    "summary(lm_basic)"
   ]
  },
  {
   "cell_type": "markdown",
   "id": "ecbacb36-1955-4a24-8a78-3287c6831714",
   "metadata": {},
   "source": [
    "## Messfehler in der unabhängigen Variable"
   ]
  },
  {
   "cell_type": "markdown",
   "id": "97c903da-6370-4167-876d-b04d63bde77b",
   "metadata": {},
   "source": [
    "### Zufälliger Messfehler"
   ]
  },
  {
   "cell_type": "code",
   "execution_count": null,
   "id": "ca1f06e1-42f7-47b5-97f7-b8402cff2807",
   "metadata": {},
   "outputs": [],
   "source": [
    "# zufälliger Messfehler auf Quality\n",
    "set.seed(127127)\n",
    "e=rnorm(nrow(winequality),0,1)\n",
    "\n",
    "# Neue Outcome-Variable mit Messfehler\n",
    "winequality$quality_faulty=winequality$quality+e"
   ]
  },
  {
   "cell_type": "code",
   "execution_count": null,
   "id": "8b3e7359-3c02-4832-9466-3ae334675aa7",
   "metadata": {},
   "outputs": [],
   "source": [
    "# Schätzen der Regression\n",
    "lm_faulty = lm(data=winequality, \n",
    "               formula=\"quality_faulty ~ alcohol\")\n",
    "\n",
    "summary(lm_faulty)"
   ]
  },
  {
   "cell_type": "code",
   "execution_count": null,
   "id": "ae265b8a-2656-4ff9-8f45-308711707010",
   "metadata": {},
   "outputs": [],
   "source": [
    "# Vergleich des alcohol Schätzwert\n",
    "b_alcohol_basic=lm_basic$coefficients[names(lm_basic$coefficients)==\"alcohol\"]\n",
    "b_alcohol_basic\n",
    "\n",
    "b_alcohol_faulty=lm_faulty$coefficients[names(lm_faulty$coefficients)==\"alcohol\"]\n",
    "b_alcohol_faulty"
   ]
  },
  {
   "cell_type": "markdown",
   "id": "d9078a0c-d3d4-40ed-9ad3-e9330c9f874e",
   "metadata": {},
   "source": [
    "### Korrelierter Messfehler"
   ]
  },
  {
   "cell_type": "code",
   "execution_count": null,
   "id": "9a3df3ee-b32b-4cac-9cc3-8a42ababd358",
   "metadata": {},
   "outputs": [],
   "source": [
    "# Korrelierter Messfehler auf Quality\n",
    "set.seed(127127)\n",
    "e_cor=rnorm(nrow(winequality),winequality$alcohol-mean(winequality$alcohol),1)\n",
    "\n",
    "# Neue Outcome-Variable mit Messfehler\n",
    "winequality$quality_cor=winequality$quality+e_cor"
   ]
  },
  {
   "cell_type": "code",
   "execution_count": null,
   "id": "ac67010e-a068-493f-b802-c5cf9f9e5784",
   "metadata": {},
   "outputs": [],
   "source": [
    "# Inspektion der Korrelation\n",
    "ggplot(winequality) + geom_point(aes(x=alcohol, y=e), col=\"blue\")+theme_classic()\n",
    "ggplot(winequality) + geom_point(aes(x=alcohol, y=e_cor), col=\"red\")+theme_classic()"
   ]
  },
  {
   "cell_type": "code",
   "execution_count": null,
   "id": "65c301b9-5712-4c29-b004-8d3abe3214b8",
   "metadata": {},
   "outputs": [],
   "source": [
    "# Schätzen der Regression\n",
    "lm_cor = lm(data=winequality, \n",
    "               formula=\"quality_cor ~ alcohol\")\n",
    "\n",
    "summary(lm_cor)"
   ]
  },
  {
   "cell_type": "code",
   "execution_count": null,
   "id": "2722fbbf-77a6-485f-af6f-c1d0a27415a8",
   "metadata": {},
   "outputs": [],
   "source": [
    "# Vergleich des alcohol Schätzwert\n",
    "b_alcohol_basic=lm_basic$coefficients[names(lm_basic$coefficients)==\"alcohol\"]\n",
    "b_alcohol_basic\n",
    "\n",
    "b_alcohol_cor=lm_cor$coefficients[names(lm_cor$coefficients)==\"alcohol\"]\n",
    "b_alcohol_cor"
   ]
  },
  {
   "cell_type": "markdown",
   "id": "1d9ab5d5-a202-4108-9831-d0d1cb982ae2",
   "metadata": {},
   "source": [
    "### Simulation der Auswirkungen von einem zufälligen Messfehler"
   ]
  },
  {
   "cell_type": "code",
   "execution_count": null,
   "id": "eaa56ab2-2668-40a1-b9ea-c7ee53001827",
   "metadata": {},
   "outputs": [],
   "source": [
    "set.seed(127127)\n",
    "b_alcohol_vector=c()"
   ]
  },
  {
   "cell_type": "code",
   "execution_count": null,
   "id": "33a81685-37ab-4e2c-ac2f-cc7ff2da8b67",
   "metadata": {},
   "outputs": [],
   "source": [
    "for(i in 1:100){\n",
    "  # zufälliger Messfehler\n",
    "  e=rnorm(nrow(winequality),0,1)\n",
    "  winequality$quality_sim=winequality$quality+e\n",
    "  \n",
    "  # Regression\n",
    "  lm_loop = lm(data=winequality, \n",
    "              formula=\"quality_sim ~ alcohol\")\n",
    "  \n",
    "  # Schätzwert\n",
    "  b_alcohol_vector[i]=lm_loop$coefficients[names(lm_loop$coefficients)==\"alcohol\"]\n",
    "}"
   ]
  },
  {
   "cell_type": "code",
   "execution_count": null,
   "id": "37f79d03-4135-484b-b836-ac2168117cd1",
   "metadata": {},
   "outputs": [],
   "source": [
    "# Alle Schätzwerte\n",
    "head(b_alcohol_vector)\n",
    "ggplot()+ geom_histogram(aes(b_alcohol_vector))+ theme_classic()"
   ]
  },
  {
   "cell_type": "code",
   "execution_count": null,
   "id": "f066c22a-29cd-4782-8f06-fb60fb2915c3",
   "metadata": {},
   "outputs": [],
   "source": [
    "# Theoretischer Mittelwert\n",
    "b_1 = lm_basic$coefficients[names(lm_basic$coefficients)==\"alcohol\"]\n",
    "cov_x_e = 0\n",
    "var_x1 = var(winequality$alcohol)\n",
    "\n",
    "b_1+cov_x_e/var_x1\n",
    "\n",
    "# Praktischer Mittelwert\n",
    "mean(b_alcohol_vector)"
   ]
  },
  {
   "cell_type": "code",
   "execution_count": null,
   "id": "b3c1773c-ba3f-4b0a-96a4-b630c5c9d5bf",
   "metadata": {},
   "outputs": [],
   "source": [
    "# Theoretische Varianz\n",
    "var_u = var(lm_basic$residuals)\n",
    "var_e = 1\n",
    "var_x1 = var(winequality$alcohol)\n",
    "             \n",
    "(var_u + var_e) / (nrow(winequality) * var_x1)\n",
    "\n",
    "# Praktische Varianz\n",
    "var(b_alcohol_vector)"
   ]
  },
  {
   "cell_type": "code",
   "execution_count": null,
   "id": "7f215198-bab6-4b21-9355-bca2bdf3be36",
   "metadata": {},
   "outputs": [],
   "source": [
    "# Vergleich der Standardabweichung zum Basic Modell\n",
    "summary(lm_basic)\n",
    "sd(b_alcohol_vector)"
   ]
  },
  {
   "attachments": {},
   "cell_type": "markdown",
   "id": "712cbf5c-1df1-4adf-b21f-47f758e27f39",
   "metadata": {},
   "source": [
    "## Messfehler in der abhängigen Variable"
   ]
  },
  {
   "cell_type": "markdown",
   "id": "b05748c4-7cb5-48c7-ba4a-710616818805",
   "metadata": {},
   "source": [
    "Fügen sie einen zufälligen standard-normalverteilten Messfehler zu der Variable *alcohol* hinzu."
   ]
  },
  {
   "cell_type": "code",
   "execution_count": null,
   "id": "c55225b5-4325-4b3e-ada4-84fdf1eebb2d",
   "metadata": {},
   "outputs": [],
   "source": [
    "# Ihr Code"
   ]
  },
  {
   "cell_type": "markdown",
   "id": "221a873f-4581-4825-81bf-34ab7d976842",
   "metadata": {},
   "source": [
    "Vergleichen Sie den theoretischen Mittelwert und die Varianz des geschätzten Parameters mit den Werten der Simulation (Analog zur vorherigen Übung ‚Messfehler in der abhängigen Variable‘)"
   ]
  },
  {
   "cell_type": "code",
   "execution_count": null,
   "id": "5537988c-b1c3-44d4-a4f2-9834e704b009",
   "metadata": {},
   "outputs": [],
   "source": [
    "# Ihr Code"
   ]
  },
  {
   "attachments": {},
   "cell_type": "markdown",
   "id": "188a3589-9db6-42cb-8d05-ae26217509b4",
   "metadata": {},
   "source": [
    "## Instrumentalvariable\n",
    "Wir schätzen den Effekt von dem Packpreis für Zigaretten auf den Zigarettenverkauf mittels der Mehrwertsteuer als Instrument."
   ]
  },
  {
   "cell_type": "code",
   "execution_count": null,
   "id": "82f2528d-4af5-4eaa-9cc0-1c6276158d90",
   "metadata": {},
   "outputs": [],
   "source": [
    "install_load(\"ivreg\")\n",
    "\n",
    "## data\n",
    "data(\"CigaretteDemand\", package = \"ivreg\")"
   ]
  },
  {
   "cell_type": "code",
   "execution_count": null,
   "id": "ac80a42b-2a35-4741-8288-935eaebd745e",
   "metadata": {},
   "outputs": [],
   "source": [
    "# Inspizieren der Daten\n",
    "summary(CigaretteDemand)\n",
    "?CigaretteDemand"
   ]
  },
  {
   "cell_type": "code",
   "execution_count": null,
   "id": "e1f057e2-597f-4bf4-b075-f4bd160cda91",
   "metadata": {},
   "outputs": [],
   "source": [
    "## model \n",
    "iv_model = ivreg(log(packs) ~ log(rprice) + log(rincome) | salestax + log(rincome),\n",
    "           data = CigaretteDemand)\n",
    "summary(iv_model)"
   ]
  }
 ],
 "metadata": {
  "kernelspec": {
   "display_name": "R",
   "language": "R",
   "name": "ir"
  },
  "language_info": {
   "codemirror_mode": "r",
   "file_extension": ".r",
   "mimetype": "text/x-r-source",
   "name": "R",
   "pygments_lexer": "r",
   "version": "4.1.2"
  }
 },
 "nbformat": 4,
 "nbformat_minor": 5
}
