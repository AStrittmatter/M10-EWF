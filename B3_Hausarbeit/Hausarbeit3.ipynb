{
 "cells": [
  {
   "cell_type": "markdown",
   "id": "ef036bfa-f7c2-4447-80ae-746af9e1a297",
   "metadata": {},
   "source": [
    "# Hausarbeit 3"
   ]
  },
  {
   "cell_type": "markdown",
   "id": "0f87f32a-3922-457f-a118-7814a78db205",
   "metadata": {},
   "source": [
    "Die Schweiz befand sich 1888 in einer Phase des demografischen Übergangs, d.h. die Fertilität begann von einem hohen auf ein niedriges Niveau zu sinken. In einigen Bezirken vollzog sich der Wandel schneller als in anderen. Der Datensatz swiss enthält ein standardisiertes Fertilitätsmass und sozioökonomische Indikatoren für 47 französischsprachige Bezirke der Schweiz um 1888. Der Datensatz hat 47 Beobachtungen und 6 Variablen, von denen jede (ausser Fertilität) den Anteil in Prozent an der Bevölkerung angibt, d. h. in [0,100]."
   ]
  },
  {
   "cell_type": "markdown",
   "id": "32d895b9-e90c-4eb4-bee1-ae02f2ab0f74",
   "metadata": {
    "jp-MarkdownHeadingCollapsed": true
   },
   "source": [
    "## Variablenbeschreibung:\n",
    "- Fertility - Coale’s index of marital fertility (Ig) .\n",
    "- Agriculture - % der männlichen Erwerbstätigen in der Landwirtschaft.\n",
    "- Examination - % der Wehrpflichtigen, die bei der Armeeprüfung die höchste Note erhielten.\n",
    "- Education - % Wehrpflichtige mit Bildung über die Grundschule hinaus.\n",
    "- Catholic - % katholisch (im Gegensatz zu protestantisch).\n",
    "- Infant.Mortality - % Lebendgeborene, die weniger als 1 Jahr ¨uberleben."
   ]
  },
  {
   "cell_type": "markdown",
   "id": "aa51c000-caa4-4003-98ad-6344c7eaa52e",
   "metadata": {
    "tags": []
   },
   "source": [
    "## Fragen"
   ]
  },
  {
   "cell_type": "markdown",
   "id": "8f61d5cb-df77-4c98-8435-965f8209d76e",
   "metadata": {},
   "source": [
    "# Deskriptive Statistiken\n",
    "1. Wie hoch ist der minimale und maximale Anteil männlicher Erwerbstätiger in der Landwirtschaft?"
   ]
  },
  {
   "cell_type": "code",
   "execution_count": null,
   "id": "91e94501-2162-461c-8969-4dc300c89c23",
   "metadata": {},
   "outputs": [],
   "source": [
    "# Datensatz laden\n",
    "data(swiss)\n",
    "\n",
    "# Ihr Code"
   ]
  },
  {
   "cell_type": "markdown",
   "id": "367855d1-ac1b-4a07-8e1a-3ac50e505a83",
   "metadata": {
    "tags": []
   },
   "source": [
    "**Antwort:** ???"
   ]
  },
  {
   "cell_type": "markdown",
   "id": "ffcdaf3c-9057-4ff4-bab5-c7a4de9db9f0",
   "metadata": {},
   "source": [
    "### Regression\n",
    "Regressieren Sie Fertility auf alle anderen Variablen."
   ]
  },
  {
   "cell_type": "code",
   "execution_count": null,
   "id": "c4c128ed-bd15-4c95-bb22-e213975d39d9",
   "metadata": {},
   "outputs": [],
   "source": [
    "# Ihr Code"
   ]
  },
  {
   "cell_type": "markdown",
   "id": "5de53f8d-9484-4901-9589-597b3d961a1c",
   "metadata": {},
   "source": [
    "2. Welches hypothetische Szenario wird durch die Konstante β0 beschrieben?"
   ]
  },
  {
   "cell_type": "markdown",
   "id": "dd5dd4d5-b501-40a5-b9ba-7b9847ccbc61",
   "metadata": {},
   "source": [
    "**Antwort:** ???"
   ]
  },
  {
   "cell_type": "markdown",
   "id": "7b5dd306-b425-4a06-8772-cf346a0f428a",
   "metadata": {},
   "source": [
    "3. Wie gross ist der Koeffizient von Catholic?"
   ]
  },
  {
   "cell_type": "code",
   "execution_count": null,
   "id": "ff2ecdd7-7ea2-433d-b42e-49289c47de47",
   "metadata": {},
   "outputs": [],
   "source": [
    "# Ihr Code"
   ]
  },
  {
   "cell_type": "markdown",
   "id": "771efe85-a6b0-4832-be3b-03e4f483c145",
   "metadata": {},
   "source": [
    "**Antwort:** ???"
   ]
  },
  {
   "cell_type": "markdown",
   "id": "d3a02d4d-eabf-4efa-b14b-90a28ee31abe",
   "metadata": {},
   "source": [
    "4. Ist der Koeffizient von Catholic statistisch signifikant? Falls ja, auf welchem Signifikanzniveau? Erklären Sie, woran Sie die statistische Signifikanz erkennen."
   ]
  },
  {
   "cell_type": "code",
   "execution_count": null,
   "id": "c7d08297-acef-467a-8b79-b07760a99f71",
   "metadata": {},
   "outputs": [],
   "source": [
    "# Ihr Code"
   ]
  },
  {
   "cell_type": "markdown",
   "id": "9c7dc32b-2361-4a51-8aaf-fdcd156e9a14",
   "metadata": {},
   "source": [
    "**Antwort:** ???"
   ]
  },
  {
   "cell_type": "markdown",
   "id": "c7c18a92-a9f2-41b2-aa8f-4bbbdc7183b1",
   "metadata": {},
   "source": [
    "### Interpretation\n",
    "5. Ist der Koeffizient von Catholic kausal zu interpretieren? Begrüunden Sie."
   ]
  },
  {
   "cell_type": "markdown",
   "id": "3762313c-6e07-4d95-8cce-44819af65b18",
   "metadata": {},
   "source": [
    "**Antwort:** ???"
   ]
  }
 ],
 "metadata": {
  "kernelspec": {
   "display_name": "R",
   "language": "R",
   "name": "ir"
  },
  "language_info": {
   "codemirror_mode": "r",
   "file_extension": ".r",
   "mimetype": "text/x-r-source",
   "name": "R",
   "pygments_lexer": "r",
   "version": "4.1.2"
  }
 },
 "nbformat": 4,
 "nbformat_minor": 5
}
