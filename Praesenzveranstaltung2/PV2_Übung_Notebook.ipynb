{
 "cells": [
  {
   "cell_type": "markdown",
   "id": "4f42dfff-9b58-4594-816f-f626dda67468",
   "metadata": {},
   "source": [
    "# STAR Projekt"
   ]
  },
  {
   "cell_type": "markdown",
   "id": "ccde74ba-3ad5-4015-a359-3264409519ad",
   "metadata": {},
   "source": [
    "In den späten 1980er Jahren wurde in Tennessee ein Experiment durchgeführt, in dem für 4 Jahre der Effekt der Klassengrösse auf den Lernerfolg von Schülern evaluiert wurde (das sogenannte Student Teacher Achievement Ratio Experiment oder STAR Experiment). Das Experiment verglich die Leistungen von Schülern, die in Klassen von verschiedener Grösse registriert waren. In jeder der teilnehmenden Schulen gab es Klassen von verschiedener Grösse. Innerhalb jeder teilnehmenden Schule wurde nicht nur die Klassengrösse zufällig bestimmt, sondern auch die Kinder zufällig den Klassen zugeteilt. Jedes Jahr mussten die Kinder standardisierte Tests ablegen (sogenanntes  SAT)."
   ]
  },
  {
   "cell_type": "markdown",
   "id": "260fd9b3-11d7-444c-ac6a-9133edd045ff",
   "metadata": {},
   "source": [
    "Die im Datensatz classsize.RData enthaltenen Variablen sind:\n",
    "\n",
    "- classize - Grösse der Klasse, in der das Kind registriert ist\n",
    "- tscorek - Testergebnis des Kindes, gemessen in Punkten\n",
    "- freelunk - 1 wenn das Kind ein kostenloses Mittagsessen erhält (Proxy für arme Familienverhälntnisse); 0 andernfalls\n",
    "- totexpk - Arbeitserfahrung des Lehrers, gemessen in Jahren"
   ]
  },
  {
   "cell_type": "markdown",
   "id": "1d9ab5d5-a202-4108-9831-d0d1cb982ae2",
   "metadata": {},
   "source": [
    "Sie wollen nun den Effekt der Klassengrösse auf die Testergebnisse schätzen, weshalb Sie das folgende bivariate Regressionsmodell betrachten:\n",
    "\\begin{align*}\n",
    "y_i=\\beta_0+\\beta_1x_i +u_i,\n",
    "\\end{align*}\n",
    "Dabei bezeichnet $y_i$ das Testergebnis, $x_i$ die Klassengrösse und $u_i$ den Fehlerterm eines Teilnehmers."
   ]
  },
  {
   "cell_type": "markdown",
   "id": "712cbf5c-1df1-4adf-b21f-47f758e27f39",
   "metadata": {},
   "source": [
    "## Daten laden und prüfen"
   ]
  },
  {
   "cell_type": "markdown",
   "id": "68288c9e-d0f9-4bb8-a435-530b7fbbe1ba",
   "metadata": {},
   "source": [
    "Laden Sie das Paket \"ggplot2\" mit dem Befehl ```library()``` (eventuell müssen Sie es vorher mit dem Befehl ```install.packages()``` installieren) und laden Sie die Daten mit dem Befehl ```load()```."
   ]
  },
  {
   "cell_type": "code",
   "execution_count": null,
   "id": "2f9d72ea-2f55-4862-9a24-1ffacf45c829",
   "metadata": {
    "tags": []
   },
   "outputs": [],
   "source": [
    "# Packages laden\n",
    "library(ggplot2)"
   ]
  },
  {
   "cell_type": "code",
   "execution_count": null,
   "id": "01d638fb-56eb-42f9-b62e-6bed790d7f90",
   "metadata": {
    "tags": []
   },
   "outputs": [],
   "source": [
    "# Daten laden\n",
    "load(\"classize.RData\")\n",
    "print(\"Daten geladen\")"
   ]
  },
  {
   "cell_type": "markdown",
   "id": "c77916b6-3cc4-4b31-8615-550521297526",
   "metadata": {},
   "source": [
    " Verschaffen Sie sich mit den Befehlen ```summary()``` und ```head()``` einen ersten Überblick über die Daten. Fallen Ihnen Fehler in den Daten auf? "
   ]
  },
  {
   "cell_type": "code",
   "execution_count": null,
   "id": "0dfb2472-49a2-450c-b0c2-34fe47398f8a",
   "metadata": {
    "tags": []
   },
   "outputs": [],
   "source": [
    "summary(???)"
   ]
  },
  {
   "cell_type": "code",
   "execution_count": null,
   "id": "12ed1827-ac90-4687-92de-e36b5e5cffa6",
   "metadata": {
    "tags": []
   },
   "outputs": [],
   "source": [
    "head(???)"
   ]
  },
  {
   "cell_type": "markdown",
   "id": "875166b2-f74f-4456-b791-ff84f7ac4ca0",
   "metadata": {},
   "source": [
    "Überprüfen Sie, wie viele Observationen der Datensatz enthält."
   ]
  },
  {
   "cell_type": "code",
   "execution_count": null,
   "id": "a2e7be8d-c2e6-4c6f-92da-6e2b1ee4ba79",
   "metadata": {
    "tags": []
   },
   "outputs": [],
   "source": [
    "nrow(???)"
   ]
  },
  {
   "cell_type": "markdown",
   "id": "e6eac88e-e380-4900-a702-5495dff1ae3e",
   "metadata": {},
   "source": [
    "## Deskriptive Statistiken"
   ]
  },
  {
   "cell_type": "markdown",
   "id": "f68c73f6-99c6-4ca4-8d0e-985238ead9de",
   "metadata": {},
   "source": [
    "Berechnen Sie die Mittelwerte und Varianzen von sowie die Kovarianz zwischen ```classize``` und ```tscorek```."
   ]
  },
  {
   "cell_type": "markdown",
   "id": "07410ef1-4aec-482f-b362-aaee2ddd084a",
   "metadata": {},
   "source": [
    "Mittelwerte:"
   ]
  },
  {
   "cell_type": "code",
   "execution_count": null,
   "id": "c3330558-c7de-4bcd-89d9-0e97d651e901",
   "metadata": {
    "tags": []
   },
   "outputs": [],
   "source": [
    "???(data$tscorek)\n",
    "???(data$classize)"
   ]
  },
  {
   "cell_type": "markdown",
   "id": "63885585-5cd2-440d-9c3c-fe48f8514fab",
   "metadata": {},
   "source": [
    "Varianzen:"
   ]
  },
  {
   "cell_type": "code",
   "execution_count": null,
   "id": "509faf27-2a71-4203-b186-30a59e01858c",
   "metadata": {
    "tags": []
   },
   "outputs": [],
   "source": [
    "???(data$tscorek)\n",
    "???(data$classize)"
   ]
  },
  {
   "cell_type": "markdown",
   "id": "28947935-2e2f-427e-bca7-23c5b83c35b0",
   "metadata": {},
   "source": [
    "Kovarianz:"
   ]
  },
  {
   "cell_type": "code",
   "execution_count": null,
   "id": "4900cbbe-b938-4acd-b21d-840cabc056c2",
   "metadata": {
    "tags": []
   },
   "outputs": [],
   "source": [
    "???(data$tscorek,data$classize)"
   ]
  },
  {
   "cell_type": "markdown",
   "id": "6d4bc86d-e180-4601-8a3c-dac858a689a9",
   "metadata": {},
   "source": [
    "## Regressionsanalyse"
   ]
  },
  {
   "cell_type": "markdown",
   "id": "83a20f79-05b9-4ae1-a4d4-4cd6b6ba7547",
   "metadata": {},
   "source": [
    "Berechnen Sie die geschätzten Koeffizienten $\\hat{\\beta}_0$ und $\\hat{\\beta}_1$ manuell."
   ]
  },
  {
   "cell_type": "markdown",
   "id": "996a627b-075c-4296-ab1d-913380038cb4",
   "metadata": {},
   "source": [
    "Steigungsparameter:"
   ]
  },
  {
   "cell_type": "code",
   "execution_count": null,
   "id": "b0521d15-5ba2-417b-a88b-7143aa679333",
   "metadata": {
    "tags": []
   },
   "outputs": [],
   "source": [
    "beta_1 = cov(???)/var(???)\n",
    "print(beta_1)"
   ]
  },
  {
   "cell_type": "markdown",
   "id": "c0667123-22c8-44e3-9830-88a9638ac455",
   "metadata": {},
   "source": [
    "Achsenabschnittsparameter:"
   ]
  },
  {
   "cell_type": "code",
   "execution_count": null,
   "id": "fef5829c-4454-417e-ac17-8c13a10f053e",
   "metadata": {
    "tags": []
   },
   "outputs": [],
   "source": [
    "beta_0 = mean(???) - beta_1*mean(???)\n",
    "print(beta_0)"
   ]
  },
  {
   "cell_type": "markdown",
   "id": "7aa9d2e9-c946-4577-8729-2610ce811bf5",
   "metadata": {},
   "source": [
    "Interpretieren Sie den Schätzer für den Achsenabschnitt und den Steigungsparameter. "
   ]
  },
  {
   "cell_type": "markdown",
   "id": "bee29b96-dfa6-4b8d-8f93-93404c8bc91b",
   "metadata": {},
   "source": [
    "Regressieren Sie die Testergebnisse im Kindergarten auf die Klassengröße mit dem Befehl ```lm()```. Sind die Ergebnisse gleich wie bei manueller Berechnung?"
   ]
  },
  {
   "cell_type": "code",
   "execution_count": null,
   "id": "2429e4d0-668b-4f7c-aab6-fc0a7d45d156",
   "metadata": {
    "tags": []
   },
   "outputs": [],
   "source": [
    "ols <- lm(??? ~ ???, data) \n",
    "summary(ols)"
   ]
  },
  {
   "cell_type": "markdown",
   "id": "b8768bba-f3ca-406e-9fb8-065a47db143e",
   "metadata": {},
   "source": [
    "Erzielt ein Kind in einer kleineren Klasse notwendigerweise ein besseres Testergebnis?"
   ]
  },
  {
   "cell_type": "code",
   "execution_count": null,
   "id": "4e83c11b-a20f-411c-8480-01cf6064b8bd",
   "metadata": {},
   "outputs": [],
   "source": [
    "# Plot Fitted Values\n",
    "plot(tscorek ~ classize, data)\n",
    "abline(coef(ols), col = \"red\")"
   ]
  },
  {
   "cell_type": "markdown",
   "id": "4f46b59d-839d-4abc-90f1-0aded1b32ba8",
   "metadata": {},
   "source": [
    "Erklären Sie, was der Fehlerterm $u_i$ darstellt. Welche Informationen können in diesem enthalten sein?"
   ]
  },
  {
   "cell_type": "markdown",
   "id": "9cf8296e-889e-4455-9845-d49025910d5d",
   "metadata": {},
   "source": [
    "## R-Quadrat"
   ]
  },
  {
   "cell_type": "markdown",
   "id": "892bc0db-eeb7-43a4-9faa-e0ef32a03305",
   "metadata": {},
   "source": [
    "Wie gross ist das R-Quadrat der Regression? Kann die Klassengrösse einen grossen Teil der Varianz der Testergebnisse erklären?"
   ]
  },
  {
   "cell_type": "code",
   "execution_count": null,
   "id": "65a1c7d3-6813-401b-9217-5b8e9d71a9bd",
   "metadata": {
    "tags": []
   },
   "outputs": [],
   "source": [
    "# Residuen\n",
    "head(ols$residuals)"
   ]
  },
  {
   "cell_type": "code",
   "execution_count": null,
   "id": "3cc0f645-88b4-46c5-ad26-161bf190dcac",
   "metadata": {
    "tags": []
   },
   "outputs": [],
   "source": [
    "# Varianz Residuen\n",
    "var(ols$residuals)"
   ]
  },
  {
   "cell_type": "code",
   "execution_count": null,
   "id": "d25ec5bd-358f-405b-a2e8-466670174818",
   "metadata": {
    "tags": []
   },
   "outputs": [],
   "source": [
    "# R-Quadrat\n",
    "R_quadrat = 1-var(???)/var(???)\n",
    "print(R_quadrat)"
   ]
  },
  {
   "cell_type": "markdown",
   "id": "1d8b9e3d-55da-42d7-bb0e-555750014502",
   "metadata": {},
   "source": [
    "## Gefittete Werte"
   ]
  },
  {
   "cell_type": "markdown",
   "id": "a3a84e2e-9822-409a-b428-79ad5c93809f",
   "metadata": {
    "tags": []
   },
   "source": [
    "Ein Kind besucht eine Klasse mit zehn Schülern - wie hoch ist dessen vorhergesagtes Testergebnis? Verifizieren Sie Ihre Angabe unter der Verwendung des ```predict()``` Befehls."
   ]
  },
  {
   "cell_type": "code",
   "execution_count": null,
   "id": "4b790ac8-cedd-4f75-bd91-587b1ecb4793",
   "metadata": {},
   "outputs": [],
   "source": [
    "y_hat = ???\n",
    "print(y_hat)"
   ]
  },
  {
   "cell_type": "code",
   "execution_count": null,
   "id": "e629ab94-7baf-44c3-a3cc-4abba70f789a",
   "metadata": {},
   "outputs": [],
   "source": [
    "new_data <- data[1,]\n",
    "new_data$classize <- 10\n",
    "predict(ols, newdata = new_data)"
   ]
  },
  {
   "cell_type": "markdown",
   "id": "3e6253a9-428d-4bc7-bccc-1bc2f9b8e96c",
   "metadata": {
    "tags": []
   },
   "source": [
    "## Effektgrösse"
   ]
  },
  {
   "cell_type": "markdown",
   "id": "50d98a3d-4d27-40ad-b458-bd5679ed1692",
   "metadata": {},
   "source": [
    "Diskutieren Sie, ob der gemessene Effekt klein oder gross ist (Hinweis: Benutzen Sie die Standardabweichung der Testergebnisse, um diese Frage zu beantworten)."
   ]
  },
  {
   "cell_type": "code",
   "execution_count": null,
   "id": "a55582f7-3dfc-4b37-88af-c677d2e2fc3a",
   "metadata": {
    "tags": []
   },
   "outputs": [],
   "source": [
    "ols$coefficients"
   ]
  },
  {
   "cell_type": "code",
   "execution_count": null,
   "id": "b1c3bdcd-2762-4c9a-8f7f-597dd6fe6c1e",
   "metadata": {
    "tags": []
   },
   "outputs": [],
   "source": [
    "ols$coefficients[\"classize\"]"
   ]
  },
  {
   "cell_type": "code",
   "execution_count": null,
   "id": "c764458d-eb18-4f01-82c8-3e6911e12088",
   "metadata": {
    "tags": []
   },
   "outputs": [],
   "source": [
    "sd(data$tscorek)"
   ]
  },
  {
   "cell_type": "code",
   "execution_count": null,
   "id": "e666aa81-e9dc-4919-8045-24a1506c447b",
   "metadata": {
    "tags": []
   },
   "outputs": [],
   "source": [
    "print(ols$coefficients[\"classize\"]/sd(data$tscorek))"
   ]
  },
  {
   "cell_type": "code",
   "execution_count": null,
   "id": "df70d3ce-19cf-4799-bd9f-225903113cf3",
   "metadata": {
    "tags": []
   },
   "outputs": [],
   "source": [
    "# Wechsel von kleinster (10) zur grössten (29) Klasse\n",
    "\n",
    "print((29-10)*ols$coefficients[\"classize\"]/sd(data$tscorek))"
   ]
  },
  {
   "cell_type": "markdown",
   "id": "f1efff47-10e2-41b7-bf4d-03776225cfa2",
   "metadata": {},
   "source": [
    "## Breakout Rooms"
   ]
  },
  {
   "cell_type": "code",
   "execution_count": null,
   "id": "94c2f3f3-5a5b-49ec-9382-39eb21586e07",
   "metadata": {},
   "outputs": [],
   "source": []
  },
  {
   "cell_type": "code",
   "execution_count": null,
   "id": "481cfd1b-5078-4af1-9825-acd15132bd02",
   "metadata": {},
   "outputs": [],
   "source": []
  },
  {
   "cell_type": "code",
   "execution_count": null,
   "id": "05cd4431-0a8a-4f5d-a775-f5a0263b4695",
   "metadata": {},
   "outputs": [],
   "source": []
  },
  {
   "cell_type": "code",
   "execution_count": null,
   "id": "37d44262-7220-425b-a034-5fbba3655931",
   "metadata": {},
   "outputs": [],
   "source": []
  },
  {
   "cell_type": "code",
   "execution_count": null,
   "id": "7f4d40d5-5d93-45f1-a7d2-6c1e6cf7791b",
   "metadata": {},
   "outputs": [],
   "source": []
  }
 ],
 "metadata": {
  "kernelspec": {
   "display_name": "R",
   "language": "R",
   "name": "ir"
  },
  "language_info": {
   "codemirror_mode": "r",
   "file_extension": ".r",
   "mimetype": "text/x-r-source",
   "name": "R",
   "pygments_lexer": "r",
   "version": "4.1.2"
  }
 },
 "nbformat": 4,
 "nbformat_minor": 5
}
