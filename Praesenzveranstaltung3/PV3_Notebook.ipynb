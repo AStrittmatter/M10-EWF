{
 "cells": [
  {
   "cell_type": "markdown",
   "id": "4f42dfff-9b58-4594-816f-f626dda67468",
   "metadata": {},
   "source": [
    "# M10: Empirische Wirtschaftsforschung\n",
    "# Modul 3: Multivariate Regression"
   ]
  },
  {
   "cell_type": "markdown",
   "id": "ccde74ba-3ad5-4015-a359-3264409519ad",
   "metadata": {},
   "source": [
    "## Vorbereitung"
   ]
  },
  {
   "cell_type": "code",
   "execution_count": 3,
   "id": "a8aa2a34-7da5-4195-aeef-3c8925a841da",
   "metadata": {
    "scrolled": true
   },
   "outputs": [
    {
     "data": {
      "text/html": [
       "<style>\n",
       ".list-inline {list-style: none; margin:0; padding: 0}\n",
       ".list-inline>li {display: inline-block}\n",
       ".list-inline>li:not(:last-child)::after {content: \"\\00b7\"; padding: 0 .5ex}\n",
       "</style>\n",
       "<ol class=list-inline><li>506</li><li>14</li></ol>\n"
      ],
      "text/latex": [
       "\\begin{enumerate*}\n",
       "\\item 506\n",
       "\\item 14\n",
       "\\end{enumerate*}\n"
      ],
      "text/markdown": [
       "1. 506\n",
       "2. 14\n",
       "\n",
       "\n"
      ],
      "text/plain": [
       "[1] 506  14"
      ]
     },
     "metadata": {},
     "output_type": "display_data"
    },
    {
     "data": {
      "text/plain": [
       "      crim                zn             indus       chas         nox        \n",
       " Min.   : 0.00632   Min.   :  0.00   Min.   : 0.46   0:471   Min.   :0.3850  \n",
       " 1st Qu.: 0.08205   1st Qu.:  0.00   1st Qu.: 5.19   1: 35   1st Qu.:0.4490  \n",
       " Median : 0.25651   Median :  0.00   Median : 9.69           Median :0.5380  \n",
       " Mean   : 3.61352   Mean   : 11.36   Mean   :11.14           Mean   :0.5547  \n",
       " 3rd Qu.: 3.67708   3rd Qu.: 12.50   3rd Qu.:18.10           3rd Qu.:0.6240  \n",
       " Max.   :88.97620   Max.   :100.00   Max.   :27.74           Max.   :0.8710  \n",
       "       rm             age              dis              rad        \n",
       " Min.   :3.561   Min.   :  2.90   Min.   : 1.130   Min.   : 1.000  \n",
       " 1st Qu.:5.886   1st Qu.: 45.02   1st Qu.: 2.100   1st Qu.: 4.000  \n",
       " Median :6.208   Median : 77.50   Median : 3.207   Median : 5.000  \n",
       " Mean   :6.285   Mean   : 68.57   Mean   : 3.795   Mean   : 9.549  \n",
       " 3rd Qu.:6.623   3rd Qu.: 94.08   3rd Qu.: 5.188   3rd Qu.:24.000  \n",
       " Max.   :8.780   Max.   :100.00   Max.   :12.127   Max.   :24.000  \n",
       "      tax           ptratio            b              lstat      \n",
       " Min.   :187.0   Min.   :12.60   Min.   :  0.32   Min.   : 1.73  \n",
       " 1st Qu.:279.0   1st Qu.:17.40   1st Qu.:375.38   1st Qu.: 6.95  \n",
       " Median :330.0   Median :19.05   Median :391.44   Median :11.36  \n",
       " Mean   :408.2   Mean   :18.46   Mean   :356.67   Mean   :12.65  \n",
       " 3rd Qu.:666.0   3rd Qu.:20.20   3rd Qu.:396.23   3rd Qu.:16.95  \n",
       " Max.   :711.0   Max.   :22.00   Max.   :396.90   Max.   :37.97  \n",
       "      medv      \n",
       " Min.   : 5.00  \n",
       " 1st Qu.:17.02  \n",
       " Median :21.20  \n",
       " Mean   :22.53  \n",
       " 3rd Qu.:25.00  \n",
       " Max.   :50.00  "
      ]
     },
     "metadata": {},
     "output_type": "display_data"
    },
    {
     "data": {
      "text/html": [
       "<table class=\"dataframe\">\n",
       "<caption>A data.frame: 6 × 14</caption>\n",
       "<thead>\n",
       "\t<tr><th></th><th scope=col>crim</th><th scope=col>zn</th><th scope=col>indus</th><th scope=col>chas</th><th scope=col>nox</th><th scope=col>rm</th><th scope=col>age</th><th scope=col>dis</th><th scope=col>rad</th><th scope=col>tax</th><th scope=col>ptratio</th><th scope=col>b</th><th scope=col>lstat</th><th scope=col>medv</th></tr>\n",
       "\t<tr><th></th><th scope=col>&lt;dbl&gt;</th><th scope=col>&lt;dbl&gt;</th><th scope=col>&lt;dbl&gt;</th><th scope=col>&lt;fct&gt;</th><th scope=col>&lt;dbl&gt;</th><th scope=col>&lt;dbl&gt;</th><th scope=col>&lt;dbl&gt;</th><th scope=col>&lt;dbl&gt;</th><th scope=col>&lt;dbl&gt;</th><th scope=col>&lt;dbl&gt;</th><th scope=col>&lt;dbl&gt;</th><th scope=col>&lt;dbl&gt;</th><th scope=col>&lt;dbl&gt;</th><th scope=col>&lt;dbl&gt;</th></tr>\n",
       "</thead>\n",
       "<tbody>\n",
       "\t<tr><th scope=row>1</th><td>0.00632</td><td>18</td><td>2.31</td><td>0</td><td>0.538</td><td>6.575</td><td>65.2</td><td>4.0900</td><td>1</td><td>296</td><td>15.3</td><td>396.90</td><td>4.98</td><td>24.0</td></tr>\n",
       "\t<tr><th scope=row>2</th><td>0.02731</td><td> 0</td><td>7.07</td><td>0</td><td>0.469</td><td>6.421</td><td>78.9</td><td>4.9671</td><td>2</td><td>242</td><td>17.8</td><td>396.90</td><td>9.14</td><td>21.6</td></tr>\n",
       "\t<tr><th scope=row>3</th><td>0.02729</td><td> 0</td><td>7.07</td><td>0</td><td>0.469</td><td>7.185</td><td>61.1</td><td>4.9671</td><td>2</td><td>242</td><td>17.8</td><td>392.83</td><td>4.03</td><td>34.7</td></tr>\n",
       "\t<tr><th scope=row>4</th><td>0.03237</td><td> 0</td><td>2.18</td><td>0</td><td>0.458</td><td>6.998</td><td>45.8</td><td>6.0622</td><td>3</td><td>222</td><td>18.7</td><td>394.63</td><td>2.94</td><td>33.4</td></tr>\n",
       "\t<tr><th scope=row>5</th><td>0.06905</td><td> 0</td><td>2.18</td><td>0</td><td>0.458</td><td>7.147</td><td>54.2</td><td>6.0622</td><td>3</td><td>222</td><td>18.7</td><td>396.90</td><td>5.33</td><td>36.2</td></tr>\n",
       "\t<tr><th scope=row>6</th><td>0.02985</td><td> 0</td><td>2.18</td><td>0</td><td>0.458</td><td>6.430</td><td>58.7</td><td>6.0622</td><td>3</td><td>222</td><td>18.7</td><td>394.12</td><td>5.21</td><td>28.7</td></tr>\n",
       "</tbody>\n",
       "</table>\n"
      ],
      "text/latex": [
       "A data.frame: 6 × 14\n",
       "\\begin{tabular}{r|llllllllllllll}\n",
       "  & crim & zn & indus & chas & nox & rm & age & dis & rad & tax & ptratio & b & lstat & medv\\\\\n",
       "  & <dbl> & <dbl> & <dbl> & <fct> & <dbl> & <dbl> & <dbl> & <dbl> & <dbl> & <dbl> & <dbl> & <dbl> & <dbl> & <dbl>\\\\\n",
       "\\hline\n",
       "\t1 & 0.00632 & 18 & 2.31 & 0 & 0.538 & 6.575 & 65.2 & 4.0900 & 1 & 296 & 15.3 & 396.90 & 4.98 & 24.0\\\\\n",
       "\t2 & 0.02731 &  0 & 7.07 & 0 & 0.469 & 6.421 & 78.9 & 4.9671 & 2 & 242 & 17.8 & 396.90 & 9.14 & 21.6\\\\\n",
       "\t3 & 0.02729 &  0 & 7.07 & 0 & 0.469 & 7.185 & 61.1 & 4.9671 & 2 & 242 & 17.8 & 392.83 & 4.03 & 34.7\\\\\n",
       "\t4 & 0.03237 &  0 & 2.18 & 0 & 0.458 & 6.998 & 45.8 & 6.0622 & 3 & 222 & 18.7 & 394.63 & 2.94 & 33.4\\\\\n",
       "\t5 & 0.06905 &  0 & 2.18 & 0 & 0.458 & 7.147 & 54.2 & 6.0622 & 3 & 222 & 18.7 & 396.90 & 5.33 & 36.2\\\\\n",
       "\t6 & 0.02985 &  0 & 2.18 & 0 & 0.458 & 6.430 & 58.7 & 6.0622 & 3 & 222 & 18.7 & 394.12 & 5.21 & 28.7\\\\\n",
       "\\end{tabular}\n"
      ],
      "text/markdown": [
       "\n",
       "A data.frame: 6 × 14\n",
       "\n",
       "| <!--/--> | crim &lt;dbl&gt; | zn &lt;dbl&gt; | indus &lt;dbl&gt; | chas &lt;fct&gt; | nox &lt;dbl&gt; | rm &lt;dbl&gt; | age &lt;dbl&gt; | dis &lt;dbl&gt; | rad &lt;dbl&gt; | tax &lt;dbl&gt; | ptratio &lt;dbl&gt; | b &lt;dbl&gt; | lstat &lt;dbl&gt; | medv &lt;dbl&gt; |\n",
       "|---|---|---|---|---|---|---|---|---|---|---|---|---|---|---|\n",
       "| 1 | 0.00632 | 18 | 2.31 | 0 | 0.538 | 6.575 | 65.2 | 4.0900 | 1 | 296 | 15.3 | 396.90 | 4.98 | 24.0 |\n",
       "| 2 | 0.02731 |  0 | 7.07 | 0 | 0.469 | 6.421 | 78.9 | 4.9671 | 2 | 242 | 17.8 | 396.90 | 9.14 | 21.6 |\n",
       "| 3 | 0.02729 |  0 | 7.07 | 0 | 0.469 | 7.185 | 61.1 | 4.9671 | 2 | 242 | 17.8 | 392.83 | 4.03 | 34.7 |\n",
       "| 4 | 0.03237 |  0 | 2.18 | 0 | 0.458 | 6.998 | 45.8 | 6.0622 | 3 | 222 | 18.7 | 394.63 | 2.94 | 33.4 |\n",
       "| 5 | 0.06905 |  0 | 2.18 | 0 | 0.458 | 7.147 | 54.2 | 6.0622 | 3 | 222 | 18.7 | 396.90 | 5.33 | 36.2 |\n",
       "| 6 | 0.02985 |  0 | 2.18 | 0 | 0.458 | 6.430 | 58.7 | 6.0622 | 3 | 222 | 18.7 | 394.12 | 5.21 | 28.7 |\n",
       "\n"
      ],
      "text/plain": [
       "  crim    zn indus chas nox   rm    age  dis    rad tax ptratio b      lstat\n",
       "1 0.00632 18 2.31  0    0.538 6.575 65.2 4.0900 1   296 15.3    396.90 4.98 \n",
       "2 0.02731  0 7.07  0    0.469 6.421 78.9 4.9671 2   242 17.8    396.90 9.14 \n",
       "3 0.02729  0 7.07  0    0.469 7.185 61.1 4.9671 2   242 17.8    392.83 4.03 \n",
       "4 0.03237  0 2.18  0    0.458 6.998 45.8 6.0622 3   222 18.7    394.63 2.94 \n",
       "5 0.06905  0 2.18  0    0.458 7.147 54.2 6.0622 3   222 18.7    396.90 5.33 \n",
       "6 0.02985  0 2.18  0    0.458 6.430 58.7 6.0622 3   222 18.7    394.12 5.21 \n",
       "  medv\n",
       "1 24.0\n",
       "2 21.6\n",
       "3 34.7\n",
       "4 33.4\n",
       "5 36.2\n",
       "6 28.7"
      ]
     },
     "metadata": {},
     "output_type": "display_data"
    }
   ],
   "source": [
    "# Packages laden\n",
    "library(\"mlbench\", \"ggplot2\")\n",
    "\n",
    "# Daten laden\n",
    "data(BostonHousing)\n",
    "\n",
    "# Daten inspizieren\n",
    "dim(BostonHousing) # Anzahl Zeilen und Spalten\n",
    "summary(BostonHousing)\n",
    "head(BostonHousing)"
   ]
  },
  {
   "cell_type": "code",
   "execution_count": null,
   "id": "028d3b67-8201-4932-815a-42dfc93c2eb3",
   "metadata": {},
   "outputs": [],
   "source": [
    "# Die chas Variable von Factor zu numeric konvertieren\n",
    "BostonHousing$chas=as.numeric(BostonHousing$chas)-1\n",
    "summary(BostonHousing)"
   ]
  },
  {
   "cell_type": "markdown",
   "id": "ecbacb36-1955-4a24-8a78-3287c6831714",
   "metadata": {},
   "source": [
    "## Partielle Regression\n",
    "Wir schätzen den Effekt von der Lage am Charles River (*chas*) auf den Häuserpreis (*medv*) mittels partieller Regression."
   ]
  },
  {
   "cell_type": "code",
   "execution_count": null,
   "id": "9a3df3ee-b32b-4cac-9cc3-8a42ababd358",
   "metadata": {},
   "outputs": [],
   "source": [
    "# Schritt 1 - Regression von chas auf alle anderen Variablen exkl. medv\n",
    "part_reg_formula=as.formula(\"chas ~ crim + zn + indus + nox + rm + age + dis + rad + tax + ptratio + b + lstat\")\n",
    "part_reg = lm(formula = part_reg_formula, data=BostonHousing)\n",
    "\n",
    "# Summary der Regression anschauen\n",
    "summary(part_reg)"
   ]
  },
  {
   "cell_type": "code",
   "execution_count": null,
   "id": "ac67010e-a068-493f-b802-c5cf9f9e5784",
   "metadata": {},
   "outputs": [],
   "source": [
    "# Schritt 2 - Residuen berechnen\n",
    "part_reg_res=part_reg$residuals\n",
    "\n",
    "# Residuals inspizieren\n",
    "mean(part_reg_res)\n",
    "ggplot() + aes(part_reg_res) + geom_histogram()"
   ]
  },
  {
   "cell_type": "code",
   "execution_count": null,
   "id": "65c301b9-5712-4c29-b004-8d3abe3214b8",
   "metadata": {},
   "outputs": [],
   "source": [
    "# Schritt 3 - Berechnung von beta_1\n",
    "\n",
    "# beta_1 = summe(res * medv) / summe (res * res)\n",
    "\n",
    "res_medv = sum(part_reg_res * BostonHousing$medv)\n",
    "res_res = sum(part_reg_res * part_reg_res)\n",
    "beta_1 = res_medv/res_res\n",
    "\n",
    "# Berechneter Koeffizient beta_1\n",
    "beta_1"
   ]
  },
  {
   "cell_type": "markdown",
   "id": "1d9ab5d5-a202-4108-9831-d0d1cb982ae2",
   "metadata": {},
   "source": [
    "## Interpretation der Koeffizienten"
   ]
  },
  {
   "cell_type": "code",
   "execution_count": null,
   "id": "eaa56ab2-2668-40a1-b9ea-c7ee53001827",
   "metadata": {},
   "outputs": [],
   "source": [
    "# Schätzen der multivariaten Regression\n",
    "full_model = lm(formula = \"medv ~ .\", data = BostonHousing)"
   ]
  },
  {
   "cell_type": "code",
   "execution_count": null,
   "id": "33a81685-37ab-4e2c-ac2f-cc7ff2da8b67",
   "metadata": {},
   "outputs": [],
   "source": [
    "# Anzeigen der Resultate\n",
    "summary(full_model)"
   ]
  },
  {
   "cell_type": "code",
   "execution_count": null,
   "id": "f066c22a-29cd-4782-8f06-fb60fb2915c3",
   "metadata": {},
   "outputs": [],
   "source": [
    "# Boxplot der Hauspreise (medv) aufgeteilt nach der Lage am Charles River (chas)\n",
    "ggplot(BostonHousing) + geom_boxplot(aes(group=chas, y=medv, col=as.factor(chas)))"
   ]
  },
  {
   "attachments": {},
   "cell_type": "markdown",
   "id": "712cbf5c-1df1-4adf-b21f-47f758e27f39",
   "metadata": {},
   "source": [
    "## Breakout rooms\n",
    "Aufgabe:\n",
    "1. Schätzen Sie die Koeffizienten mittels partieller Regression, sowie multivariater Regression. Verwenden Sie dazu das Modell welches sie zuvor bestimmt haben. Sind die Resultate identisch?\n",
    "2. Vergleichen Sie die Resultate mit den Resultaten des maximalen Modells."
   ]
  },
  {
   "attachments": {},
   "cell_type": "markdown",
   "id": "188a3589-9db6-42cb-8d05-ae26217509b4",
   "metadata": {},
   "source": [
    "### Raum 1\n",
    "Sie sind interessiert am Effekt der Kriminalitätsrate (*crim*) auf die Wohnpreise (*medv*)"
   ]
  },
  {
   "cell_type": "code",
   "execution_count": null,
   "id": "82f2528d-4af5-4eaa-9cc0-1c6276158d90",
   "metadata": {},
   "outputs": [],
   "source": [
    "# Ihr Code"
   ]
  },
  {
   "cell_type": "markdown",
   "id": "82235c5d-edd5-430e-8f28-f3ee6c51c183",
   "metadata": {},
   "source": [
    "### Raum 2\n",
    "Sie sind interessiert am Effekt der Stickstoffoxid Konzentration (nox) auf die Wohnpreise (medv)"
   ]
  },
  {
   "cell_type": "code",
   "execution_count": null,
   "id": "c70a0452-ec1c-4d34-b905-09234e7f940d",
   "metadata": {},
   "outputs": [],
   "source": [
    "# Ihr Code"
   ]
  },
  {
   "cell_type": "markdown",
   "id": "084b471e-dc7a-4ff6-b339-795c2af0a870",
   "metadata": {},
   "source": [
    "## Hypothesentests\n",
    "Wir berechen den p-Wert der Variable chas."
   ]
  },
  {
   "cell_type": "code",
   "execution_count": null,
   "id": "f0323a42-8ac5-4156-9470-434735bfd591",
   "metadata": {},
   "outputs": [],
   "source": [
    "# Standardabweichung von beta_1\n",
    "var_hat = sum((full_model$residuals)^2) / (nrow(BostonHousing) - 13 - 1)\n",
    "SST = sum((BostonHousing$chas - mean(BostonHousing$chas))^2)\n",
    "part_reg_rsq=summary(part_reg)$r.squared\n",
    "beta_1_sd = sqrt(var_hat/(SST*(1-part_reg_rsq)))"
   ]
  },
  {
   "cell_type": "code",
   "execution_count": null,
   "id": "2251d8a1-013d-4a7d-a4d4-97dcdac0fde1",
   "metadata": {},
   "outputs": [],
   "source": [
    "# Test-Statistik\n",
    "t = beta_1 / beta_1_sd"
   ]
  },
  {
   "cell_type": "code",
   "execution_count": null,
   "id": "388126e0-cac4-4c6d-8aec-b1be79f936ab",
   "metadata": {},
   "outputs": [],
   "source": [
    "# p-Wert\n",
    "p_wert = 2 * (1 - pt(abs(t), (nrow(BostonHousing) - 13 - 1)))\n",
    "p_wert"
   ]
  },
  {
   "cell_type": "code",
   "execution_count": null,
   "id": "8ae36e4f-218f-424a-a3da-0cf09b6226ed",
   "metadata": {},
   "outputs": [],
   "source": [
    "# Vergleich mit direkter Funktion\n",
    "summary(full_model)"
   ]
  }
 ],
 "metadata": {
  "kernelspec": {
   "display_name": "R",
   "language": "R",
   "name": "ir"
  },
  "language_info": {
   "codemirror_mode": "r",
   "file_extension": ".r",
   "mimetype": "text/x-r-source",
   "name": "R",
   "pygments_lexer": "r",
   "version": "4.1.2"
  }
 },
 "nbformat": 4,
 "nbformat_minor": 5
}
