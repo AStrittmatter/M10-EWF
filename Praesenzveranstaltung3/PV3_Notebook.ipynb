{
 "cells": [
  {
   "cell_type": "markdown",
   "id": "4f42dfff-9b58-4594-816f-f626dda67468",
   "metadata": {},
   "source": [
    "# M10: Empirische Wirtschaftsforschung\n",
    "# Modul 3: Multivariate Regression"
   ]
  },
  {
   "cell_type": "markdown",
   "id": "ccde74ba-3ad5-4015-a359-3264409519ad",
   "metadata": {},
   "source": [
    "## Vorbereitung"
   ]
  },
  {
   "cell_type": "code",
   "execution_count": null,
   "id": "a8aa2a34-7da5-4195-aeef-3c8925a841da",
   "metadata": {
    "scrolled": true
   },
   "outputs": [],
   "source": [
    "# Packages laden\n",
    "install.packages(\"install.load\")\n",
    "library(install.load)\n",
    "install_load(\"mlbench\", \"ggplot2\")\n",
    "\n",
    "# Daten laden\n",
    "data(BostonHousing)\n",
    "\n",
    "# Daten inspizieren\n",
    "dim(BostonHousing) # Anzahl Zeilen und Spalten\n",
    "summary(BostonHousing)\n",
    "head(BostonHousing)"
   ]
  },
  {
   "cell_type": "code",
   "execution_count": null,
   "id": "028d3b67-8201-4932-815a-42dfc93c2eb3",
   "metadata": {},
   "outputs": [],
   "source": [
    "# Die chas Variable von Factor zu numeric konvertieren\n",
    "BostonHousing$chas=as.numeric(BostonHousing$chas)-1\n",
    "summary(BostonHousing)"
   ]
  },
  {
   "cell_type": "markdown",
   "id": "ecbacb36-1955-4a24-8a78-3287c6831714",
   "metadata": {},
   "source": [
    "## Partielle Regression\n",
    "Wir schätzen den Effekt von der Lage am Charles River (*chas*) auf den Häuserpreis (*medv*) mittels partieller Regression."
   ]
  },
  {
   "cell_type": "code",
   "execution_count": null,
   "id": "9a3df3ee-b32b-4cac-9cc3-8a42ababd358",
   "metadata": {},
   "outputs": [],
   "source": [
    "# Schritt 1 - Regression von chas auf alle anderen Variablen exkl. medv\n",
    "part_reg_formula=as.formula(\"chas ~ crim + zn + indus + nox + rm + age + dis + rad + tax + ptratio + b + lstat\")\n",
    "part_reg = lm(formula = part_reg_formula, data=BostonHousing)\n",
    "\n",
    "# Summary der Regression anschauen\n",
    "summary(part_reg)"
   ]
  },
  {
   "cell_type": "code",
   "execution_count": null,
   "id": "ac67010e-a068-493f-b802-c5cf9f9e5784",
   "metadata": {},
   "outputs": [],
   "source": [
    "# Schritt 2 - Residuen berechnen\n",
    "part_reg_res=part_reg$residuals\n",
    "\n",
    "# Residuals inspizieren\n",
    "mean(part_reg_res)\n",
    "ggplot() + aes(part_reg_res) + geom_histogram()"
   ]
  },
  {
   "cell_type": "code",
   "execution_count": null,
   "id": "65c301b9-5712-4c29-b004-8d3abe3214b8",
   "metadata": {},
   "outputs": [],
   "source": [
    "# Schritt 3 - Berechnung von beta_1\n",
    "\n",
    "# beta_1 = summe(res * medv) / summe (res * res)\n",
    "\n",
    "res_medv = sum(part_reg_res * BostonHousing$medv)\n",
    "res_res = sum(part_reg_res * part_reg_res)\n",
    "beta_1 = res_medv/res_res\n",
    "\n",
    "# Berechneter Koeffizient beta_1\n",
    "beta_1"
   ]
  },
  {
   "cell_type": "markdown",
   "id": "1d9ab5d5-a202-4108-9831-d0d1cb982ae2",
   "metadata": {},
   "source": [
    "## Interpretation der Koeffizienten"
   ]
  },
  {
   "cell_type": "code",
   "execution_count": null,
   "id": "eaa56ab2-2668-40a1-b9ea-c7ee53001827",
   "metadata": {},
   "outputs": [],
   "source": [
    "# Schätzen der multivariaten Regression\n",
    "full_model = lm(formula = \"medv ~ .\", data = BostonHousing)"
   ]
  },
  {
   "cell_type": "code",
   "execution_count": null,
   "id": "33a81685-37ab-4e2c-ac2f-cc7ff2da8b67",
   "metadata": {},
   "outputs": [],
   "source": [
    "# Anzeigen der Resultate\n",
    "summary(full_model)"
   ]
  },
  {
   "cell_type": "code",
   "execution_count": null,
   "id": "f066c22a-29cd-4782-8f06-fb60fb2915c3",
   "metadata": {},
   "outputs": [],
   "source": [
    "# Boxplot der Hauspreise (medv) aufgeteilt nach der Lage am Charles River (chas)\n",
    "ggplot(BostonHousing) + geom_boxplot(aes(group=chas, y=medv, col=as.factor(chas)))"
   ]
  },
  {
   "attachments": {},
   "cell_type": "markdown",
   "id": "712cbf5c-1df1-4adf-b21f-47f758e27f39",
   "metadata": {},
   "source": [
    "## Breakout rooms\n",
    "Aufgabe:\n",
    "1. Schätzen Sie die Koeffizienten mittels partieller Regression, sowie multivariater Regression. Verwenden Sie dazu das Modell welches sie zuvor bestimmt haben. Sind die Resultate identisch?\n",
    "2. Vergleichen Sie die Resultate mit den Resultaten des maximalen Modells."
   ]
  },
  {
   "attachments": {},
   "cell_type": "markdown",
   "id": "188a3589-9db6-42cb-8d05-ae26217509b4",
   "metadata": {},
   "source": [
    "### Raum 1\n",
    "Sie sind interessiert am Effekt der Kriminalitätsrate (*crim*) auf die Wohnpreise (*medv*)"
   ]
  },
  {
   "cell_type": "code",
   "execution_count": null,
   "id": "82f2528d-4af5-4eaa-9cc0-1c6276158d90",
   "metadata": {},
   "outputs": [],
   "source": [
    "# Ihr Code"
   ]
  },
  {
   "cell_type": "markdown",
   "id": "82235c5d-edd5-430e-8f28-f3ee6c51c183",
   "metadata": {},
   "source": [
    "### Raum 2\n",
    "Sie sind interessiert am Effekt der Stickstoffoxid Konzentration (nox) auf die Wohnpreise (medv)"
   ]
  },
  {
   "cell_type": "code",
   "execution_count": null,
   "id": "c70a0452-ec1c-4d34-b905-09234e7f940d",
   "metadata": {},
   "outputs": [],
   "source": [
    "# Ihr Code"
   ]
  },
  {
   "cell_type": "markdown",
   "id": "084b471e-dc7a-4ff6-b339-795c2af0a870",
   "metadata": {},
   "source": [
    "## Hypothesentests\n",
    "Wir berechen den p-Wert der Variable chas."
   ]
  },
  {
   "cell_type": "code",
   "execution_count": null,
   "id": "f0323a42-8ac5-4156-9470-434735bfd591",
   "metadata": {},
   "outputs": [],
   "source": [
    "# Standardabweichung von beta_1\n",
    "var_hat = sum((full_model$residuals)^2) / (nrow(BostonHousing) - 13 - 1)\n",
    "SST = sum((BostonHousing$chas - mean(BostonHousing$chas))^2)\n",
    "part_reg_rsq=summary(part_reg)$r.squared\n",
    "beta_1_sd = sqrt(var_hat/(SST*(1-part_reg_rsq)))"
   ]
  },
  {
   "cell_type": "code",
   "execution_count": null,
   "id": "2251d8a1-013d-4a7d-a4d4-97dcdac0fde1",
   "metadata": {},
   "outputs": [],
   "source": [
    "# Test-Statistik\n",
    "t = beta_1 / beta_1_sd"
   ]
  },
  {
   "cell_type": "code",
   "execution_count": null,
   "id": "388126e0-cac4-4c6d-8aec-b1be79f936ab",
   "metadata": {},
   "outputs": [],
   "source": [
    "# p-Wert\n",
    "p_wert = 2 * (1 - pt(abs(t), (nrow(BostonHousing) - 13 - 1)))\n",
    "p_wert"
   ]
  },
  {
   "cell_type": "code",
   "execution_count": null,
   "id": "8ae36e4f-218f-424a-a3da-0cf09b6226ed",
   "metadata": {},
   "outputs": [],
   "source": [
    "# Vergleich mit direkter Funktion\n",
    "summary(full_model)"
   ]
  }
 ],
 "metadata": {
  "kernelspec": {
   "display_name": "R",
   "language": "R",
   "name": "ir"
  },
  "language_info": {
   "codemirror_mode": "r",
   "file_extension": ".r",
   "mimetype": "text/x-r-source",
   "name": "R",
   "pygments_lexer": "r",
   "version": "4.1.2"
  }
 },
 "nbformat": 4,
 "nbformat_minor": 5
}
