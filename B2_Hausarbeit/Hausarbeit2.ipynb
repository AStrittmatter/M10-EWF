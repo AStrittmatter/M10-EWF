{
 "cells": [
  {
   "cell_type": "markdown",
   "id": "ef036bfa-f7c2-4447-80ae-746af9e1a297",
   "metadata": {},
   "source": [
    "# Hausarbeit 2"
   ]
  },
  {
   "cell_type": "markdown",
   "id": "0f87f32a-3922-457f-a118-7814a78db205",
   "metadata": {},
   "source": [
    "Der *highjump*-Datensatz, welcher in diesem Skript geladen wird, enthält Daten zu den Medalliengewinnern an den Olympischen Spielen im Hochsprung (Die Daten sind aus dem Artikel 'Study on high jumpers on the world' von G. Daniel.). In den Variablen *performance* und *bodyheight* ist jeweils die erreichte Sprunghöhe, sowie die Körpergrösse der Athleten gegeben. Wir möchten mit einer univariaten Regression\n",
    "herausfinden, ob die Körpergrösse einen Einfluss auf die erreichte Sprunghöhe hat. Das Modell, welches wir im folgenden schätzen werden, hat demnach die Form:<br>\n",
    "<div style=\"text-align: center;\">\n",
    "$\\textit{performance}=\\beta_0 + \\beta_1 \\cdot \\textit{bodyheight}+u$\n",
    "</div>\n"
   ]
  },
  {
   "cell_type": "markdown",
   "id": "32d895b9-e90c-4eb4-bee1-ae02f2ab0f74",
   "metadata": {},
   "source": [
    "## Vorbereitung"
   ]
  },
  {
   "cell_type": "code",
   "execution_count": 3,
   "id": "da166e7d-ac5e-46ae-8901-dbb4ed7bc1ce",
   "metadata": {},
   "outputs": [
    {
     "data": {
      "text/html": [
       "<table class=\"dataframe\">\n",
       "<caption>A data.frame: 6 × 2</caption>\n",
       "<thead>\n",
       "\t<tr><th></th><th scope=col>performance</th><th scope=col>bodyheight</th></tr>\n",
       "\t<tr><th></th><th scope=col>&lt;int&gt;</th><th scope=col>&lt;int&gt;</th></tr>\n",
       "</thead>\n",
       "<tbody>\n",
       "\t<tr><th scope=row>1</th><td>234</td><td>195</td></tr>\n",
       "\t<tr><th scope=row>2</th><td>234</td><td>200</td></tr>\n",
       "\t<tr><th scope=row>3</th><td>234</td><td>192</td></tr>\n",
       "\t<tr><th scope=row>4</th><td>234</td><td>199</td></tr>\n",
       "\t<tr><th scope=row>5</th><td>234</td><td>184</td></tr>\n",
       "\t<tr><th scope=row>6</th><td>239</td><td>184</td></tr>\n",
       "</tbody>\n",
       "</table>\n"
      ],
      "text/latex": [
       "A data.frame: 6 × 2\n",
       "\\begin{tabular}{r|ll}\n",
       "  & performance & bodyheight\\\\\n",
       "  & <int> & <int>\\\\\n",
       "\\hline\n",
       "\t1 & 234 & 195\\\\\n",
       "\t2 & 234 & 200\\\\\n",
       "\t3 & 234 & 192\\\\\n",
       "\t4 & 234 & 199\\\\\n",
       "\t5 & 234 & 184\\\\\n",
       "\t6 & 239 & 184\\\\\n",
       "\\end{tabular}\n"
      ],
      "text/markdown": [
       "\n",
       "A data.frame: 6 × 2\n",
       "\n",
       "| <!--/--> | performance &lt;int&gt; | bodyheight &lt;int&gt; |\n",
       "|---|---|---|\n",
       "| 1 | 234 | 195 |\n",
       "| 2 | 234 | 200 |\n",
       "| 3 | 234 | 192 |\n",
       "| 4 | 234 | 199 |\n",
       "| 5 | 234 | 184 |\n",
       "| 6 | 239 | 184 |\n",
       "\n"
      ],
      "text/plain": [
       "  performance bodyheight\n",
       "1 234         195       \n",
       "2 234         200       \n",
       "3 234         192       \n",
       "4 234         199       \n",
       "5 234         184       \n",
       "6 239         184       "
      ]
     },
     "metadata": {},
     "output_type": "display_data"
    },
    {
     "data": {
      "text/plain": [
       "  performance      bodyheight   \n",
       " Min.   :232.0   Min.   :181.0  \n",
       " 1st Qu.:234.0   1st Qu.:187.0  \n",
       " Median :234.0   Median :192.0  \n",
       " Mean   :234.6   Mean   :192.1  \n",
       " 3rd Qu.:235.0   3rd Qu.:198.0  \n",
       " Max.   :239.0   Max.   :201.0  "
      ]
     },
     "metadata": {},
     "output_type": "display_data"
    }
   ],
   "source": [
    "# Einlesen der Daten\n",
    "highjump=read.csv(\"highjump.csv\")\n",
    "\n",
    "# Inspizieren der Daten\n",
    "head(highjump)\n",
    "summary(highjump)"
   ]
  },
  {
   "cell_type": "markdown",
   "id": "aa51c000-caa4-4003-98ad-6344c7eaa52e",
   "metadata": {
    "tags": []
   },
   "source": [
    "## Fragen"
   ]
  },
  {
   "cell_type": "markdown",
   "id": "8f61d5cb-df77-4c98-8435-965f8209d76e",
   "metadata": {},
   "source": [
    "1. Diskutieren Sie ob die vier Annahmen zur univariaten Regression in diesem Anwendungsbeispiel\n",
    "erfüllt sind."
   ]
  },
  {
   "cell_type": "markdown",
   "id": "367855d1-ac1b-4a07-8e1a-3ac50e505a83",
   "metadata": {
    "tags": []
   },
   "source": [
    "**Antwort:** ???"
   ]
  },
  {
   "cell_type": "markdown",
   "id": "ffcdaf3c-9057-4ff4-bab5-c7a4de9db9f0",
   "metadata": {},
   "source": [
    "2. Schätzen Sie die Parameter $(\\beta_0, \\beta_1)$ des Modells anhand der Methode der kleinsten\n",
    "Quadrate. Berechnen Sie dazu einzeln die Mittelwert, Varianz und Covarianz\n",
    "der beiden Variablen und setzen Sie diese in die entsprechenden Formeln für die\n",
    "Parameter ein."
   ]
  },
  {
   "cell_type": "code",
   "execution_count": null,
   "id": "add54d5c-cfcf-4d33-9ce4-053e2154d5db",
   "metadata": {},
   "outputs": [],
   "source": [
    "highjump_mean= ???\n",
    "Highjump_var = ???\n",
    "bodyweight_mean = ???\n",
    "bodyweight_var = ???\n",
    "covariance = ???\n",
    "\n",
    "beta_0 = ???\n",
    "  \n",
    "beta_1 = ???\n",
    "\n",
    "print(beta_0)\n",
    "print(beta_1)"
   ]
  },
  {
   "cell_type": "markdown",
   "id": "77d47385-4a26-4a3b-ada2-310ac7e235af",
   "metadata": {},
   "source": [
    "3. Wie interpretieren Sie die geschätzten Parameter. Ist das Resultat wie erwartet?"
   ]
  },
  {
   "cell_type": "markdown",
   "id": "8e32868c-e2be-41bc-9cc8-e358db37fca8",
   "metadata": {},
   "source": [
    "**Antwort:** ???"
   ]
  },
  {
   "cell_type": "markdown",
   "id": "4bb06c6e-74eb-47de-847a-5ec6a8f2afd2",
   "metadata": {},
   "source": [
    "4. Schätzen Sie die univariate Regression mittels der bereits implementierten Funktion\n",
    "´´´lm()´´´. Nutzen Sie dafür die R-Hilfe zu der korrekten Verwendung der Funktion.\n",
    "Sind die Resultate identisch?"
   ]
  },
  {
   "cell_type": "code",
   "execution_count": null,
   "id": "651a1000-b77d-4c5d-b670-66d6ce2b44a4",
   "metadata": {},
   "outputs": [],
   "source": [
    "regression_results = lm(?)\n",
    "\n",
    "summary(regression_results)"
   ]
  },
  {
   "cell_type": "markdown",
   "id": "69222d67-f9e1-4ae5-b65c-27c7b11c2df0",
   "metadata": {},
   "source": [
    "**Antwort:** ???"
   ]
  },
  {
   "cell_type": "code",
   "execution_count": null,
   "id": "1a3c44d2-5f28-4865-842b-b772d6e4a72e",
   "metadata": {},
   "outputs": [],
   "source": []
  }
 ],
 "metadata": {
  "kernelspec": {
   "display_name": "R",
   "language": "R",
   "name": "ir"
  },
  "language_info": {
   "codemirror_mode": "r",
   "file_extension": ".r",
   "mimetype": "text/x-r-source",
   "name": "R",
   "pygments_lexer": "r",
   "version": "4.1.2"
  }
 },
 "nbformat": 4,
 "nbformat_minor": 5
}
