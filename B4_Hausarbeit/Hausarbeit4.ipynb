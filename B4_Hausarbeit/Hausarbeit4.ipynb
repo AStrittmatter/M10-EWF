{
 "cells": [
  {
   "cell_type": "markdown",
   "id": "ef036bfa-f7c2-4447-80ae-746af9e1a297",
   "metadata": {},
   "source": [
    "# Hausarbeit 4"
   ]
  },
  {
   "cell_type": "markdown",
   "id": "0f87f32a-3922-457f-a118-7814a78db205",
   "metadata": {},
   "source": [
    "Der *winequality.csv* Datensatz enthält Daten zu Portugiesischen ’Vinho Verde’ Weinen (Die Daten sind aus dem Artikel 'Wine Quality' von Paulo Cortez et al. (2009), siehe http://www3.dsi.uminho.pt/pcortez/wine/ für mehr Details.) <br>\n",
    "Sie werden versuchen, die Weinqualität mittels physikalisch-chemischen Eigenschaften der Weine zu schätzen. Die folgende Auflistung beschreibt die Variablen des Datensatzes: <br>\n",
    "- *acidity*: Säuregehalt [g/l]\n",
    "- *sulfur dioxide*: Sulfitgehalt [mg/l]\n",
    "- *density*: Dichte [g/l]\n",
    "- *pH*: PH-Wert\n",
    "- *alcohol*: Alkoholgehalt [% vol]\n",
    "- *color*: Weintyp [rot/weiss]\n",
    "- *quality*: Weinqualität [1,. . . ,10]"
   ]
  },
  {
   "cell_type": "markdown",
   "id": "787904ba-3cc4-40c1-a686-65d6324c1ce8",
   "metadata": {},
   "source": [
    "## Fragen\n",
    "1. Laden sie den Datensatz *winequality.csv* und verschaffen Sie sich einen Überblick. Kommentieren Sie die vorliegenden Variablentypen (numerisch, kategorisch, . . . ). Wieviele Rot-, bzw. Weissweine gibt es im Datensatz."
   ]
  },
  {
   "cell_type": "code",
   "execution_count": null,
   "id": "6c598b3e-7bf0-4263-86e1-9d6981b909ec",
   "metadata": {},
   "outputs": [],
   "source": [
    "# Laden der Daten\n",
    "winequality=read.csv(\"winequality.csv\")\n",
    "\n",
    "# Inspizieren der Daten\n",
    "\n"
   ]
  },
  {
   "cell_type": "markdown",
   "id": "3ebc2d3a-96b8-4f21-9899-073daf4ae3e4",
   "metadata": {},
   "source": [
    "**Antwort:** "
   ]
  },
  {
   "cell_type": "markdown",
   "id": "32d895b9-e90c-4eb4-bee1-ae02f2ab0f74",
   "metadata": {
    "jp-MarkdownHeadingCollapsed": true
   },
   "source": [
    "2. Regressieren sie *quality* auf das ganze Set an unabhängigen Variablen (ohne Interaktionsterme und Transformationen). Beurteilen Sie die Signifikanz der Variablen im Modell."
   ]
  },
  {
   "cell_type": "code",
   "execution_count": null,
   "id": "1849b90c-697b-4e7b-81ff-9b1a7ba0a319",
   "metadata": {},
   "outputs": [],
   "source": [
    "# Erstellen von einer Dummy Variable aus color\n",
    "winequality$red = ifelse(winequality$color==\"red\", 1, 0)\n",
    "\n",
    "# Löschen der nicht mehr verwendeten color Variable\n",
    "winequality=winequality[,colnames(winequality)!=\"color\"]\n",
    "\n",
    "# Schätzen der Regression\n",
    "lm_restr = \n"
   ]
  },
  {
   "cell_type": "markdown",
   "id": "5ae75725-a900-49d8-a736-49ca85b1cde1",
   "metadata": {},
   "source": [
    "**Antwort:**"
   ]
  },
  {
   "cell_type": "markdown",
   "id": "2553c0b1-4e1e-426d-9c1a-82fa69b454f9",
   "metadata": {},
   "source": [
    "3. Wir möchten nun überprüfen, ob es ein unterschiedliches Modell für Rotweine und Weissweine gibt. Schätzen Sie ein uneingeschränktes Modell, indem sie die Dummy Variable zu Rotwein mit den restlichen unabhängigen Variablen interagieren. Beurteilen Sie die Signifikanz der Interaktionsterme im erweiterten Modell."
   ]
  },
  {
   "cell_type": "code",
   "execution_count": null,
   "id": "84d1d1e1-c954-4e3c-99bb-d9e667c0d896",
   "metadata": {},
   "outputs": [],
   "source": [
    "lm_unrestr = "
   ]
  },
  {
   "cell_type": "markdown",
   "id": "957f3325-c57a-4324-951a-7d12513b09ae",
   "metadata": {},
   "source": [
    "**Antwort:**"
   ]
  },
  {
   "cell_type": "markdown",
   "id": "3b0aa748-fcf0-4506-a7d6-ca748bf08690",
   "metadata": {},
   "source": [
    "4. Führen Sie einen Heterogenitätstest durch um zu entscheiden, ob Rotweine und Weissweine einem unterschiedlichen Modell folgen. Wie lautet Ihre Schlussfolgerung?"
   ]
  },
  {
   "cell_type": "code",
   "execution_count": null,
   "id": "3295a4ba-e6c2-4e68-98a7-66fec191dadb",
   "metadata": {},
   "outputs": [],
   "source": [
    "# Sum of Squared Residuals\n",
    "ssr_unrestr=???\n",
    "ssr_restr=???\n",
    "\n",
    "# Differenz der Freiheitsgrade\n",
    "df_diff <- lm_restr$df.residual - lm_unrestr$df.residual\n",
    "df_diff\n",
    "\n",
    "# Test Statistik\n",
    "test_stat= (???-???)/??? * 6485/df_diff\n",
    "test_stat\n",
    "  \n",
    "# Kritischer Wert\n",
    "F_crit=qf(p= 1 - .01, df1=df_diff, df2=6485)\n",
    "F_crit"
   ]
  },
  {
   "cell_type": "markdown",
   "id": "cd0d07ac-ccfc-47a6-bfc2-b903c359baae",
   "metadata": {},
   "source": [
    "**Antwort:**"
   ]
  }
 ],
 "metadata": {
  "kernelspec": {
   "display_name": "R",
   "language": "R",
   "name": "ir"
  },
  "language_info": {
   "codemirror_mode": "r",
   "file_extension": ".r",
   "mimetype": "text/x-r-source",
   "name": "R",
   "pygments_lexer": "r",
   "version": "4.1.2"
  }
 },
 "nbformat": 4,
 "nbformat_minor": 5
}
